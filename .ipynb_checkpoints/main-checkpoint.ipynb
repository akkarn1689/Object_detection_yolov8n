{
 "cells": [
  {
   "cell_type": "code",
   "execution_count": 4,
   "id": "e2670bb3",
   "metadata": {},
   "outputs": [
    {
     "name": "stdout",
     "output_type": "stream",
     "text": [
      "Collecting ultralyticsNote: you may need to restart the kernel to use updated packages.\n",
      "\n",
      "  Downloading ultralytics-8.1.24-py3-none-any.whl (719 kB)\n",
      "     ------------------------------------ 719.5/719.5 kB 260.8 kB/s eta 0:00:00\n",
      "Requirement already satisfied: requests>=2.23.0 in c:\\users\\ashish karn\\anaconda3\\lib\\site-packages (from ultralytics) (2.28.1)\n",
      "Collecting torch>=1.8.0\n",
      "  Downloading torch-2.2.1-cp39-cp39-win_amd64.whl (198.5 MB)\n",
      "     ------------------------------------- 198.5/198.5 MB 92.5 kB/s eta 0:00:00\n",
      "Collecting thop>=0.1.1\n",
      "  Downloading thop-0.1.1.post2209072238-py3-none-any.whl (15 kB)\n",
      "Requirement already satisfied: matplotlib>=3.3.0 in c:\\users\\ashish karn\\anaconda3\\lib\\site-packages (from ultralytics) (3.5.2)\n",
      "Requirement already satisfied: opencv-python>=4.6.0 in c:\\users\\ashish karn\\anaconda3\\lib\\site-packages (from ultralytics) (4.7.0.72)\n",
      "Requirement already satisfied: seaborn>=0.11.0 in c:\\users\\ashish karn\\anaconda3\\lib\\site-packages (from ultralytics) (0.11.2)\n",
      "Requirement already satisfied: tqdm>=4.64.0 in c:\\users\\ashish karn\\anaconda3\\lib\\site-packages (from ultralytics) (4.64.1)\n",
      "Collecting torchvision>=0.9.0\n",
      "  Downloading torchvision-0.17.1-cp39-cp39-win_amd64.whl (1.2 MB)\n",
      "     ---------------------------------------- 1.2/1.2 MB 226.1 kB/s eta 0:00:00\n",
      "Requirement already satisfied: pillow>=7.1.2 in c:\\users\\ashish karn\\anaconda3\\lib\\site-packages (from ultralytics) (9.2.0)\n",
      "Requirement already satisfied: scipy>=1.4.1 in c:\\users\\ashish karn\\anaconda3\\lib\\site-packages (from ultralytics) (1.9.1)\n",
      "Requirement already satisfied: psutil in c:\\users\\ashish karn\\anaconda3\\lib\\site-packages (from ultralytics) (5.9.0)\n",
      "Collecting py-cpuinfo\n",
      "  Downloading py_cpuinfo-9.0.0-py3-none-any.whl (22 kB)\n",
      "Requirement already satisfied: pyyaml>=5.3.1 in c:\\users\\ashish karn\\anaconda3\\lib\\site-packages (from ultralytics) (6.0)\n",
      "Requirement already satisfied: pandas>=1.1.4 in c:\\users\\ashish karn\\anaconda3\\lib\\site-packages (from ultralytics) (1.4.4)\n",
      "Requirement already satisfied: packaging>=20.0 in c:\\users\\ashish karn\\anaconda3\\lib\\site-packages (from matplotlib>=3.3.0->ultralytics) (21.3)\n",
      "Requirement already satisfied: pyparsing>=2.2.1 in c:\\users\\ashish karn\\anaconda3\\lib\\site-packages (from matplotlib>=3.3.0->ultralytics) (3.0.9)\n",
      "Requirement already satisfied: numpy>=1.17 in c:\\users\\ashish karn\\anaconda3\\lib\\site-packages (from matplotlib>=3.3.0->ultralytics) (1.21.5)\n",
      "Requirement already satisfied: python-dateutil>=2.7 in c:\\users\\ashish karn\\anaconda3\\lib\\site-packages (from matplotlib>=3.3.0->ultralytics) (2.8.2)\n",
      "Requirement already satisfied: kiwisolver>=1.0.1 in c:\\users\\ashish karn\\anaconda3\\lib\\site-packages (from matplotlib>=3.3.0->ultralytics) (1.4.2)\n",
      "Requirement already satisfied: cycler>=0.10 in c:\\users\\ashish karn\\anaconda3\\lib\\site-packages (from matplotlib>=3.3.0->ultralytics) (0.11.0)\n",
      "Requirement already satisfied: fonttools>=4.22.0 in c:\\users\\ashish karn\\anaconda3\\lib\\site-packages (from matplotlib>=3.3.0->ultralytics) (4.25.0)\n",
      "Requirement already satisfied: pytz>=2020.1 in c:\\users\\ashish karn\\anaconda3\\lib\\site-packages (from pandas>=1.1.4->ultralytics) (2022.1)\n",
      "Requirement already satisfied: urllib3<1.27,>=1.21.1 in c:\\users\\ashish karn\\anaconda3\\lib\\site-packages (from requests>=2.23.0->ultralytics) (1.26.11)\n",
      "Requirement already satisfied: certifi>=2017.4.17 in c:\\users\\ashish karn\\anaconda3\\lib\\site-packages (from requests>=2.23.0->ultralytics) (2022.9.14)\n",
      "Requirement already satisfied: charset-normalizer<3,>=2 in c:\\users\\ashish karn\\anaconda3\\lib\\site-packages (from requests>=2.23.0->ultralytics) (2.0.4)\n",
      "Requirement already satisfied: idna<4,>=2.5 in c:\\users\\ashish karn\\anaconda3\\lib\\site-packages (from requests>=2.23.0->ultralytics) (3.3)\n",
      "Requirement already satisfied: filelock in c:\\users\\ashish karn\\anaconda3\\lib\\site-packages (from torch>=1.8.0->ultralytics) (3.6.0)\n",
      "Collecting typing-extensions>=4.8.0\n",
      "  Downloading typing_extensions-4.10.0-py3-none-any.whl (33 kB)\n",
      "Requirement already satisfied: sympy in c:\\users\\ashish karn\\anaconda3\\lib\\site-packages (from torch>=1.8.0->ultralytics) (1.10.1)\n",
      "Requirement already satisfied: networkx in c:\\users\\ashish karn\\anaconda3\\lib\\site-packages (from torch>=1.8.0->ultralytics) (2.8.4)\n",
      "Requirement already satisfied: jinja2 in c:\\users\\ashish karn\\anaconda3\\lib\\site-packages (from torch>=1.8.0->ultralytics) (2.11.3)\n",
      "Requirement already satisfied: fsspec in c:\\users\\ashish karn\\anaconda3\\lib\\site-packages (from torch>=1.8.0->ultralytics) (2022.7.1)\n",
      "Requirement already satisfied: colorama in c:\\users\\ashish karn\\anaconda3\\lib\\site-packages (from tqdm>=4.64.0->ultralytics) (0.4.5)\n",
      "Requirement already satisfied: six>=1.5 in c:\\users\\ashish karn\\anaconda3\\lib\\site-packages (from python-dateutil>=2.7->matplotlib>=3.3.0->ultralytics) (1.16.0)\n",
      "Requirement already satisfied: MarkupSafe>=0.23 in c:\\users\\ashish karn\\anaconda3\\lib\\site-packages (from jinja2->torch>=1.8.0->ultralytics) (2.0.1)\n",
      "Requirement already satisfied: mpmath>=0.19 in c:\\users\\ashish karn\\anaconda3\\lib\\site-packages (from sympy->torch>=1.8.0->ultralytics) (1.2.1)\n",
      "Installing collected packages: py-cpuinfo, typing-extensions, torch, torchvision, thop, ultralytics\n",
      "  Attempting uninstall: typing-extensions\n",
      "    Found existing installation: typing_extensions 4.3.0\n",
      "    Uninstalling typing_extensions-4.3.0:\n",
      "      Successfully uninstalled typing_extensions-4.3.0\n",
      "Successfully installed py-cpuinfo-9.0.0 thop-0.1.1.post2209072238 torch-2.2.1 torchvision-0.17.1 typing-extensions-4.10.0 ultralytics-8.1.24\n"
     ]
    }
   ],
   "source": [
    "pip install ultralytics"
   ]
  },
  {
   "cell_type": "code",
   "execution_count": 5,
   "id": "02a73ca8",
   "metadata": {},
   "outputs": [],
   "source": [
    "from ultralytics import YOLO"
   ]
  },
  {
   "cell_type": "code",
   "execution_count": null,
   "id": "4424f399",
   "metadata": {},
   "outputs": [],
   "source": [
    "# Load a model\n",
    "model = YOLO(\"yolov8n.yaml\")  # build a new model from scratch\n",
    "# model = YOLO(\"yolov8n.pt\")  # load a pretrained model (recommended for training)\n",
    "\n",
    "# Use the model\n",
    "model.train(data=\"datasets/data.yaml\", epochs=3)  # train the model\n",
    "# metrics = model.val()  # evaluate model performance on the validation set\n",
    "# results = model(\"https://ultralytics.com/images/bus.jpg\")  # predict on an image\n",
    "# path = model.export(format=\"onnx\")  # export the model to ONNX format"
   ]
  }
 ],
 "metadata": {
  "kernelspec": {
   "display_name": "Python 3 (ipykernel)",
   "language": "python",
   "name": "python3"
  },
  "language_info": {
   "codemirror_mode": {
    "name": "ipython",
    "version": 3
   },
   "file_extension": ".py",
   "mimetype": "text/x-python",
   "name": "python",
   "nbconvert_exporter": "python",
   "pygments_lexer": "ipython3",
   "version": "3.9.13"
  }
 },
 "nbformat": 4,
 "nbformat_minor": 5
}
